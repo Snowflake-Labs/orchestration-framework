{
 "cells": [
  {
   "cell_type": "markdown",
   "metadata": {},
   "source": [
    "# Cortex Cube Quickstart Notebook"
   ]
  },
  {
   "cell_type": "markdown",
   "metadata": {},
   "source": [
    "Cortex Cube is a multi-agent framework that offers native support for Snowflake tools. Instead of requiring users or developers to choose between RAG with Cortex Search or Text2SQL with Cortex Analyst, let the Cube route the work to the appropriate tool based on the user's request.\n",
    "\n",
    "CortexCube can be configured to work with 3 types of tools:\n",
    "- Cortex Search Tool: For unstructured data analysis, which requires a standard RAG access pattern.\n",
    "- Cortex Analyst Tool: For supporting structured data analysis, which requires a Text2SQL access pattern.\n",
    "- Python Tool: For supporting custom user operations (using 3rd Party API's), which requires calling arbitray python.\n",
    "\n",
    "This notebook walks through how to configure and run a system with all 3 types of tools. The demo is designed to illustrate how the agent can answer questions that require a divserse combination of tools (RAG,Text2SQL, Python, or a combination).\n",
    "\n",
    "Note that Cortex Cube does not configure the underlying Cortex Search or Cortex Analyst services for the user. Those services must be configured before initializing Cortex Cube."
   ]
  },
  {
   "cell_type": "markdown",
   "metadata": {},
   "source": [
    "# Cortex Cube Configuration"
   ]
  },
  {
   "cell_type": "markdown",
   "metadata": {},
   "source": [
    "## Connection Setup"
   ]
  },
  {
   "cell_type": "markdown",
   "metadata": {},
   "source": [
    "Authenticate with Snowpark + set token as enviornment variable for use by the agents."
   ]
  },
  {
   "cell_type": "code",
   "execution_count": 1,
   "metadata": {},
   "outputs": [
    {
     "name": "stderr",
     "output_type": "stream",
     "text": [
      "/Users/alherrera/Downloads/Cube/cortex-cube/.venv/lib/python3.11/site-packages/tqdm/auto.py:21: TqdmWarning: IProgress not found. Please update jupyter and ipywidgets. See https://ipywidgets.readthedocs.io/en/stable/user_install.html\n",
      "  from .autonotebook import tqdm as notebook_tqdm\n"
     ]
    }
   ],
   "source": [
    "from CortexCube import CortexCube, CortexSearchTool,CortexAnalystTool,PythonTool\n",
    "from snowflake.snowpark import Session\n",
    "import os, time\n",
    "\n",
    "connection_parameters = {\n",
    "    \n",
    "    \"account\": os.getenv('SNOWFLAKE_ACCOUNT'),\n",
    "    \"user\": os.getenv('SNOWFLAKE_USER'),\n",
    "    \"password\": os.getenv('SNOWFLAKE_PASSWORD'),\n",
    "    \"role\": os.getenv('SNOWFLAKE_ROLE'),\n",
    "    \"warehouse\": os.getenv('SNOWFLAKE_WAREHOUSE'),\n",
    "    \"database\": os.getenv('SNOWFLAKE_DATABASE'),\n",
    "    \"schema\": os.getenv('SNOWFLAKE_SCHEMA')}  \n",
    "\n",
    "snowpark = Session.builder.configs(connection_parameters).create()"
   ]
  },
  {
   "cell_type": "markdown",
   "metadata": {},
   "source": [
    "## Snowflake Tool Configuration"
   ]
  },
  {
   "cell_type": "markdown",
   "metadata": {},
   "source": [
    "The Cortex Search Tool and the Cortex Analyst Tool need to be configured as follows. Note that a connection object is required for each config. In the case below we're using the same connection object for both because the services are both in the same account/database/schema. Users have the option to pass in different connection objects as needed."
   ]
  },
  {
   "cell_type": "code",
   "execution_count": 2,
   "metadata": {},
   "outputs": [],
   "source": [
    "search_config = {\n",
    "    \"service_name\":\"SEC_SEARCH_SERVICE\",\n",
    "    \"service_topic\":\"Snowflake's business,product offerings,and performance\",\n",
    "    \"data_description\": \"Snowflake annual reports\",\n",
    "    \"retrieval_columns\":[\"CHUNK\"],\n",
    "    \"auto_filter\":False,\n",
    "    \"snowpark_connection\": snowpark\n",
    "}\n",
    "\n",
    "analyst_config = {\n",
    "    \"semantic_model\":\"sp500_semantic_model.yaml\",\n",
    "    \"stage\":\"SEMANTICS\",\n",
    "    \"service_topic\":\"S&P500 company and stock metrics\",\n",
    "    \"data_description\": \"a table with stock and financial metrics about S&P500 companies \",\n",
    "    \"snowpark_connection\": snowpark\n",
    "}"
   ]
  },
  {
   "cell_type": "markdown",
   "metadata": {},
   "source": [
    "## Python Tool Configuration"
   ]
  },
  {
   "cell_type": "markdown",
   "metadata": {},
   "source": [
    "Configuring a Python Tool for Cortex Cube requires 1) Python Callable 2) Tool Description (what does the tool do) 3) Output Description (what does the tool output). \n",
    "\n",
    "In the example below we create a NewsTool object that submits a HTTP request to a 3rd Party News API. The python callable is passed into the Python Tool as `news_api_func`.To use the tool below get your free token by signing up for an account at thenewsapi.com or just create your own python function and pass it into the PythonTool."
   ]
  },
  {
   "cell_type": "code",
   "execution_count": 3,
   "metadata": {},
   "outputs": [],
   "source": [
    "import requests,json\n",
    "\n",
    "class NewsTool:\n",
    "\n",
    "    def __init__(self,token,limit) -> None:\n",
    "\n",
    "        self.api_token = token\n",
    "        self.limit = limit  \n",
    "    \n",
    "    def search(self,news_query:str)->str: \n",
    "\n",
    "        print(\"Running News Search tool....\")\n",
    "        news_request = f\"\"\"https://api.thenewsapi.com/v1/news/all?api_token={self.api_token}&search={news_query}&language=en&limit={self.limit}\"\"\"\n",
    "        response = requests.get(news_request)            \n",
    "        json_response = json.loads(response.content)['data']\n",
    "\n",
    "        return str(json_response)\n",
    "\n",
    "tool_desc = \"searches for relevant news based on user query\"\n",
    "output = \"relevant articles\"\n",
    "news_api_func= NewsTool(token=os.getenv(\"NEWS_API_TOKEN\"),limit=3).search\n"
   ]
  },
  {
   "cell_type": "markdown",
   "metadata": {},
   "source": [
    "## Cortex Cube Config"
   ]
  },
  {
   "cell_type": "markdown",
   "metadata": {},
   "source": [
    "After the tools have been configured, initialize them and configure CortexCube"
   ]
  },
  {
   "cell_type": "code",
   "execution_count": 5,
   "metadata": {},
   "outputs": [
    {
     "name": "stdout",
     "output_type": "stream",
     "text": [
      "Cortex Search Tool successfully initialized\n",
      "Cortex Analyst Tool succesfully initialized\n",
      "Python Tool successfully initialized\n"
     ]
    }
   ],
   "source": [
    "annual_reports = CortexSearchTool(**search_config)\n",
    "sp500 = CortexAnalystTool(**analyst_config)\n",
    "news_search = PythonTool(python_func=news_api_func,tool_description=tool_desc,output_description=output)\n",
    "\n",
    "snowflake_tools = [annual_reports,sp500,news_search]\n",
    "agent = CortexCube(snowpark_session=snowpark,tools=snowflake_tools)"
   ]
  },
  {
   "cell_type": "markdown",
   "metadata": {},
   "source": [
    "# Cortex Cube Testing"
   ]
  },
  {
   "cell_type": "markdown",
   "metadata": {},
   "source": [
    "The 3 types of questions below are designed to showcase the breadth of tool use patterns possible with Cortex Cube. \n",
    "\n",
    "- The Structured Data Questions use the Cortex Analyst agent. \n",
    "- The Unstructured Data Questions use either the Cortex Search agent or the Python (News API) agent.\n",
    "- The last section includes a question that requires the use of both types of tools."
   ]
  },
  {
   "cell_type": "markdown",
   "metadata": {},
   "source": [
    "## Structured Data Questions"
   ]
  },
  {
   "cell_type": "code",
   "execution_count": 6,
   "metadata": {},
   "outputs": [
    {
     "name": "stdout",
     "output_type": "stream",
     "text": [
      "Running Cortex Analyst tool.....\n",
      "The market cap of Apple is $3,019,131,060,224 or approximately $3.02 trillion.\n"
     ]
    }
   ],
   "source": [
    "question = \"What is the market cap of Apple? \"\n",
    "agent_answer = await agent.acall(question)\n",
    "print(agent_answer['output'])"
   ]
  },
  {
   "cell_type": "code",
   "execution_count": 7,
   "metadata": {},
   "outputs": [
    {
     "name": "stdout",
     "output_type": "stream",
     "text": [
      "Running Cortex Analyst tool.....\n",
      "Running Cortex Analyst tool.....\n",
      "Apple has the bigger EBITDA with $129,629,003,776 compared to Microsoft's $125,981,999,104.\n"
     ]
    }
   ],
   "source": [
    "question = \"Which company has the bigger EBITDA, Apple or MSFT? \"\n",
    "agent_answer = await agent.acall(question)\n",
    "print(agent_answer['output'])\n"
   ]
  },
  {
   "cell_type": "markdown",
   "metadata": {},
   "source": [
    "## Unstructured Data Questions"
   ]
  },
  {
   "cell_type": "code",
   "execution_count": 8,
   "metadata": {},
   "outputs": [
    {
     "name": "stdout",
     "output_type": "stream",
     "text": [
      "Running Cortex Search tool.....\n",
      "As of January 31, 2024, Snowflake had 9,437 total customers, increasing from 7,744 customers as of January 31, 2023.\n"
     ]
    }
   ],
   "source": [
    "question = \"How many customers does Snowflake have?\"\n",
    "agent_answer = await agent.acall(question)\n",
    "print(agent_answer['output'])\n"
   ]
  },
  {
   "cell_type": "code",
   "execution_count": 9,
   "metadata": {},
   "outputs": [
    {
     "name": "stdout",
     "output_type": "stream",
     "text": [
      "Running News Search tool....\n"
     ]
    },
    {
     "name": "stdout",
     "output_type": "stream",
     "text": [
      "'Recent news about Azure's AI investments includes:\\n- Article: Microsoft: Navigating AI Investments Amid Market Volatility Source: [GuruFocus](https://www.gurufocus.com/news/2499558/microsoft-navigating-ai-investments-amid-market-volatility)\\n- Article: Microsoft: Leading the AI Revolution Source: [GuruFocus](https://www.gurufocus.com/news/2454844/microsoft-leading-the-ai-revolution)\\n- Article: How do the big AI cloud providers stack up at the end of Q2? Bernstein weighs in Source: [Investing.com](https://www.investing.com/news/stock-market-news/how-do-the-big-ai-cloud-providers-stack-up-at-the-end-of-q2-bernstein-weighs-in-432SI-3581725)\n"
     ]
    }
   ],
   "source": [
    "question = \"Give me recent news about Azure's AI investments\"\n",
    "agent_answer = await agent.acall(question)\n",
    "print(agent_answer['output'])"
   ]
  },
  {
   "cell_type": "markdown",
   "metadata": {},
   "source": [
    "## Unstrcutured + Structured Data Questions"
   ]
  },
  {
   "cell_type": "code",
   "execution_count": 10,
   "metadata": {},
   "outputs": [
    {
     "name": "stdout",
     "output_type": "stream",
     "text": [
      "Running Cortex Analyst tool.....\n",
      "Running Cortex Search tool.....\n",
      "The top 5 companies in the S&P by EBITDA are Apple Inc., Microsoft Corporation, Alphabet Inc., Berkshire Hathaway Inc. New, and Amazon.com, Inc. Among these, Amazon.com, Inc. (through Amazon Web Services), Microsoft Corporation (through Microsoft Azure), and Alphabet Inc. (through Google Cloud Platform) are mentioned as competitors in Snowflake's annual report.\n"
     ]
    }
   ],
   "source": [
    "question = \"What are the top 5 companies in the S&P by EBITDA? Are any of them mentioned as competitors in Snowflake's annual report?\"\n",
    "agent_answer = await agent.acall(question)\n",
    "print(agent_answer['output'])"
   ]
  },
  {
   "cell_type": "code",
   "execution_count": null,
   "metadata": {},
   "outputs": [],
   "source": []
  },
  {
   "cell_type": "code",
   "execution_count": null,
   "metadata": {},
   "outputs": [],
   "source": []
  },
  {
   "cell_type": "code",
   "execution_count": 2,
   "metadata": {},
   "outputs": [
    {
     "name": "stderr",
     "output_type": "stream",
     "text": [
      "2024-10-09 12:13:47.577 WARNING streamlit.runtime.scriptrunner_utils.script_run_context: Thread 'MainThread': missing ScriptRunContext! This warning can be ignored when running in bare mode.\n",
      "2024-10-09 12:13:47.607 \n",
      "  \u001b[33m\u001b[1mWarning:\u001b[0m to view this Streamlit app on a browser, run it with the following\n",
      "  command:\n",
      "\n",
      "    streamlit run /Users/alherrera/Downloads/Cube/cube/lib/python3.11/site-packages/ipykernel_launcher.py [ARGUMENTS]\n",
      "2024-10-09 12:13:47.608 Thread 'MainThread': missing ScriptRunContext! This warning can be ignored when running in bare mode.\n"
     ]
    }
   ],
   "source": [
    "import os\n",
    "import streamlit as st\n",
    "connection_parameters = {\n",
    "    \n",
    "    \"account\": os.getenv('SNOWFLAKE_ACCOUNT'),\n",
    "    \"user\": os.getenv('SNOWFLAKE_USER'),\n",
    "    \"password\": os.getenv('SNOWFLAKE_PASSWORD'),\n",
    "    \"role\": os.getenv('SNOWFLAKE_ROLE'),\n",
    "    \"warehouse\": os.getenv('SNOWFLAKE_WAREHOUSE'),\n",
    "    \"database\": os.getenv('SNOWFLAKE_DATABASE'),\n",
    "    \"schema\": os.getenv('SNOWFLAKE_SCHEMA')}  \n",
    "\n",
    "st.write(connection_parameters)\n",
    "\n",
    "os.environ[\"SNOWFLAKE_ACCOUNT\"] = connection_parameters[\"account\"]\n",
    "os.environ[\"NEWS_API_TOKEN\"] = os.getenv(\"NEWS_API_TOKEN\")"
   ]
  },
  {
   "cell_type": "code",
   "execution_count": 6,
   "metadata": {},
   "outputs": [
    {
     "data": {
      "text/plain": [
       "'sfpscogs-scs'"
      ]
     },
     "execution_count": 6,
     "metadata": {},
     "output_type": "execute_result"
    }
   ],
   "source": [
    "from dotenv import load_dotenv\n",
    "load_dotenv()\n",
    "os.getenv(\"SNOWFLAKE_ACCOUNT\")"
   ]
  },
  {
   "cell_type": "code",
   "execution_count": null,
   "metadata": {},
   "outputs": [],
   "source": []
  }
 ],
 "metadata": {
  "kernelspec": {
   "display_name": ".venv",
   "language": "python",
   "name": "python3"
  },
  "language_info": {
   "codemirror_mode": {
    "name": "ipython",
    "version": 3
   },
   "file_extension": ".py",
   "mimetype": "text/x-python",
   "name": "python",
   "nbconvert_exporter": "python",
   "pygments_lexer": "ipython3",
   "version": "3.11.6"
  }
 },
 "nbformat": 4,
 "nbformat_minor": 2
}
