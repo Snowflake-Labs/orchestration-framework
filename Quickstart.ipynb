{
 "cells": [
  {
   "cell_type": "markdown",
   "metadata": {},
   "source": [
    "# Agent Gateway Quickstart"
   ]
  },
  {
   "cell_type": "markdown",
   "metadata": {},
   "source": [
    "Agent Gateway is a multi-agent framework that offers native support for Snowflake tools. \n",
    "\n",
    "The system can be configured to work with 3 types of tools:\n",
    "- Cortex Search Tool: For unstructured data analysis, which requires a standard RAG access pattern.\n",
    "- Cortex Analyst Tool: For supporting structured data analysis, which requires a Text2SQL access pattern.\n",
    "- Python Tool: For supporting custom user operations (using 3rd Party API's), which requires calling arbitrary python.\n",
    "\n",
    "This notebook walks through how to configure and run a system with all 3 types of tools. The demo is designed to illustrate how the agent can answer questions that require a divserse combination of tools (RAG,Text2SQL, Python, or a combination).\n",
    "\n",
    "Note that Agent Gateway does not configure the underlying Cortex Search or Cortex Analyst services for the user. Those services must be configured before initializing the agent."
   ]
  },
  {
   "cell_type": "markdown",
   "metadata": {},
   "source": [
    "# Agent Configuration"
   ]
  },
  {
   "cell_type": "markdown",
   "metadata": {},
   "source": [
    "## Connection Setup"
   ]
  },
  {
   "cell_type": "markdown",
   "metadata": {},
   "source": [
    "Authenticate with Snowpark + set token as environment variable for use by the agents."
   ]
  },
  {
   "cell_type": "code",
   "execution_count": 1,
   "metadata": {},
   "outputs": [],
   "source": [
    "from agent_gateway import Agent\n",
    "from agent_gateway.tools import CortexSearchTool, CortexAnalystTool, PythonTool, SQLTool\n",
    "from snowflake.snowpark import Session\n",
    "import os\n",
    "from dotenv import load_dotenv\n",
    "\n",
    "load_dotenv()\n",
    "\n",
    "connection_parameters = {\n",
    "    \"account\": os.getenv(\"SNOWFLAKE_ACCOUNT\"),\n",
    "    \"user\": os.getenv(\"SNOWFLAKE_USER\"),\n",
    "    \"password\": os.getenv(\"SNOWFLAKE_PASSWORD\"),\n",
    "    \"role\": os.getenv(\"SNOWFLAKE_ROLE\"),\n",
    "    \"warehouse\": os.getenv(\"SNOWFLAKE_WAREHOUSE\"),\n",
    "    \"database\": os.getenv(\"SNOWFLAKE_DATABASE\"),\n",
    "    \"schema\": os.getenv(\"SNOWFLAKE_SCHEMA\"),\n",
    "}\n",
    "\n",
    "snowpark = Session.builder.configs(connection_parameters).create()"
   ]
  },
  {
   "cell_type": "markdown",
   "metadata": {},
   "source": [
    "## Snowflake Tool Configuration"
   ]
  },
  {
   "cell_type": "markdown",
   "metadata": {},
   "source": [
    "The Cortex Search Tool and the Cortex Analyst Tool need to be configured as follows. Note that a connection object is required for each config. In the case below we're using the same connection object for both because the services are both in the same account/database/schema. Users have the option to pass in different connection objects as needed."
   ]
  },
  {
   "cell_type": "code",
   "execution_count": 3,
   "metadata": {},
   "outputs": [],
   "source": [
    "search_config = {\n",
    "    \"service_name\": \"SEC_SEARCH_SERVICE\",\n",
    "    \"service_topic\": \"Snowflake's business,product offerings,and performance.\",\n",
    "    \"data_description\": \"Snowflake annual reports\",\n",
    "    \"retrieval_columns\": [\"CHUNK\", \"RELATIVE_PATH\"],\n",
    "    \"snowflake_connection\": snowpark,\n",
    "    \"k\": 10,\n",
    "}\n",
    "\n",
    "analyst_config = {\n",
    "    \"semantic_model\": \"sp500_semantic_model.yaml\",\n",
    "    \"stage\": \"ANALYST\",\n",
    "    \"service_topic\": \"S&P500 company and stock metrics\",\n",
    "    \"data_description\": \"a table with stock and financial metrics about S&P500 companies \",\n",
    "    \"snowflake_connection\": snowpark,\n",
    "}\n",
    "\n",
    "analyst_trunc_config = {\n",
    "    \"semantic_model\": \"sp500_semantic_model.yaml\",\n",
    "    \"stage\": \"ANALYST\",\n",
    "    \"service_topic\": \"S&P500 company and stock metrics\",\n",
    "    \"data_description\": \"a table with stock and financial metrics about S&P500 companies \",\n",
    "    \"snowflake_connection\": snowpark,\n",
    "    \"max_results\": 5,\n",
    "}"
   ]
  },
  {
   "cell_type": "markdown",
   "metadata": {},
   "source": [
    "## Python Tool Configuration"
   ]
  },
  {
   "cell_type": "markdown",
   "metadata": {},
   "source": [
    "Configuring a Python Tool for the Agent Gateway requires 1) Python Callable 2) Tool Description (what does the tool do) 3) Output Description (what does the tool output). \n",
    "\n",
    "In the example below we create a NewsTool object that submits a HTTP request to a 3rd Party News API. The python callable is passed into the Python Tool as `news_api_func`.To use the tool below get your free token by signing up for an account at thenewsapi.com or just create your own python function and pass it into the PythonTool."
   ]
  },
  {
   "cell_type": "code",
   "execution_count": 4,
   "metadata": {},
   "outputs": [],
   "source": [
    "import requests\n",
    "\n",
    "\n",
    "def html_crawl(url):\n",
    "    response = requests.get(url)\n",
    "    return response.text\n",
    "\n",
    "\n",
    "python_crawler_config = {\n",
    "    \"tool_description\": \"reads the html from a given URL or website\",\n",
    "    \"output_description\": \"html of a webpage\",\n",
    "    \"python_func\": html_crawl,\n",
    "}"
   ]
  },
  {
   "cell_type": "markdown",
   "metadata": {},
   "source": [
    "# SQL Tool Configuration"
   ]
  },
  {
   "cell_type": "code",
   "execution_count": null,
   "metadata": {},
   "outputs": [],
   "source": [
    "pe_query = \"\"\"SELECT \n",
    "    LONGNAME,\n",
    "    SECTOR,\n",
    "    INDUSTRY,\n",
    "    CURRENTPRICE,\n",
    "    EPS,\n",
    "    CASE \n",
    "        WHEN EPS > 0 THEN CURRENTPRICE / EPS\n",
    "        ELSE NULL\n",
    "    END AS PE_Ratio\n",
    "FROM YourTableName;\"\"\"\n",
    "\n",
    "pe_tool_config = {\n",
    "    \"sql\": pe_query,\n",
    "    \"connection\": snowpark,\n",
    "    \"tool_description\": \"calculate the P/E (price to earnings) ratio of companies\",\n",
    "    \"output_description\": \"P/E (price to earnings) metrics for companies\",\n",
    "}\n",
    "\n",
    "SQLTool(**pe_tool_config)"
   ]
  },
  {
   "cell_type": "code",
   "execution_count": null,
   "metadata": {},
   "outputs": [
    {
     "data": {
      "text/plain": [
       "'SELECT \\n    LONGNAME,\\n    SECTOR,\\n    INDUSTRY,\\n    CURRENTPRICE,\\n    EPS,\\n    CASE \\n        WHEN EPS > 0 THEN CURRENTPRICE / EPS\\n        ELSE NULL\\n    END AS PE_Ratio\\nFROM YourTableName;'"
      ]
     },
     "execution_count": 10,
     "metadata": {},
     "output_type": "execute_result"
    }
   ],
   "source": []
  },
  {
   "cell_type": "markdown",
   "metadata": {},
   "source": [
    "## Agent Config"
   ]
  },
  {
   "cell_type": "markdown",
   "metadata": {},
   "source": [
    "After the tools have been configured, initialize them and configure the agent."
   ]
  },
  {
   "cell_type": "code",
   "execution_count": 5,
   "metadata": {},
   "outputs": [
    {
     "name": "stdout",
     "output_type": "stream",
     "text": [
      "2025-03-20 10:57:35,122 - AgentGatewayLogger - INFO - Cortex Search Tool successfully initialized\n",
      "2025-03-20 10:57:35,337 - AgentGatewayLogger - INFO - Cortex Analyst Tool successfully initialized\n",
      "2025-03-20 10:57:35,551 - AgentGatewayLogger - INFO - Cortex Analyst Tool successfully initialized\n",
      "2025-03-20 10:57:35,552 - AgentGatewayLogger - INFO - Python Tool successfully initialized\n",
      "2025-03-20 10:57:35,928 - AgentGatewayLogger - INFO - Cortex gateway successfully initialized\n"
     ]
    }
   ],
   "source": [
    "annual_reports = CortexSearchTool(**search_config)\n",
    "sp500 = CortexAnalystTool(**analyst_config)\n",
    "sp500_two = CortexAnalystTool(**analyst_trunc_config)\n",
    "web_crawler = PythonTool(**python_crawler_config)\n",
    "\n",
    "snowflake_tools = [annual_reports, sp500, web_crawler]\n",
    "agent = Agent(snowflake_connection=snowpark, tools=snowflake_tools, max_retries=3)"
   ]
  },
  {
   "cell_type": "code",
   "execution_count": 7,
   "metadata": {},
   "outputs": [
    {
     "data": {
      "text/plain": [
       "{'output': '{\\'SHORTNAME\\': [\\'3M Company\\', \\'A.O. Smith Corporation\\', \\'AFLAC Incorporated\\', \\'AMETEK, Inc.\\', \\'ANSYS, Inc.\\', \\'APA Corporation\\', \\'AT&T Inc.\\', \\'AbbVie Inc.\\', \\'Abbott Laboratories\\', \\'Accenture plc\\', \\'Adobe Inc.\\', \\'Advanced Micro Devices, Inc.\\', \\'Agilent Technologies, Inc.\\', \\'Air Products and Chemicals, Inc\\', \\'Airbnb, Inc.\\', \\'Akamai Technologies, Inc.\\', \\'Albemarle Corporation\\', \\'Alexandria Real Estate Equities\\', \\'Align Technology, Inc.\\', \\'Allegion plc\\', \\'Alliant Energy Corporation\\', \\'Allstate Corporation (The)\\', \\'Alphabet Inc.\\', \\'Altria Group, Inc.\\', \\'Amazon.com, Inc.\\', \\'Amcor plc\\', \\'Ameren Corporation\\', \\'American Airlines Group, Inc.\\', \\'American Electric Power Company\\', \\'American Express Company\\', \\'American International Group, I\\', \\'American Tower Corporation (REI\\', \\'American Water Works Company, I\\', \\'Ameriprise Financial, Inc.\\', \\'Amgen Inc.\\', \\'Amphenol Corporation\\', \\'Analog Devices, Inc.\\', \\'Aon plc\\', \\'Apple Inc.\\', \\'Applied Materials, Inc.\\', \\'Aptiv PLC\\', \\'Arch Capital Group Ltd.\\', \\'Archer-Daniels-Midland Company\\', \\'Arista Networks, Inc.\\', \\'Arthur J. Gallagher & Co.\\', \\'Assurant, Inc.\\', \\'Atmos Energy Corporation\\', \\'AutoZone, Inc.\\', \\'Autodesk, Inc.\\', \\'Automatic Data Processing, Inc.\\', \\'AvalonBay Communities, Inc.\\', \\'Avery Dennison Corporation\\', \\'Axon Enterprise, Inc.\\', \\'Baker Hughes Company\\', \\'Ball Corporation\\', \\'Bank of America Corporation\\', \\'Bath & Body Works, Inc.\\', \\'Baxter International Inc.\\', \\'Becton, Dickinson and Company\\', \\'Berkshire Hathaway Inc. New\\', \\'Best Buy Co., Inc.\\', \\'Bio-Rad Laboratories, Inc.\\', \\'Bio-Techne Corp\\', \\'Biogen Inc.\\', \\'BlackRock, Inc.\\', \\'Blackstone Inc.\\', \\'Boeing Company (The)\\', \\'Booking Holdings Inc. Common St\\', \\'BorgWarner Inc.\\', \\'Boston Properties, Inc.\\', \\'Boston Scientific Corporation\\', \\'Bristol-Myers Squibb Company\\', \\'Broadcom Inc.\\', \\'Broadridge Financial Solutions,\\', \\'Brown & Brown, Inc.\\', \\'Brown Forman Inc\\', \\'Builders FirstSource, Inc.\\', \\'Bunge Limited\\', \\'C.H. Robinson Worldwide, Inc.\\', \\'CBRE Group Inc\\', \\'CDW Corporation\\', \\'CF Industries Holdings, Inc.\\', \\'CME Group Inc.\\', \\'CMS Energy Corporation\\', \\'CSX Corporation\\', \\'CVS Health Corporation\\', \\'Cadence Design Systems, Inc.\\', \\'Caesars Entertainment, Inc.\\', \\'Camden Property Trust\\', \\'Campbell Soup Company\\', \\'Capital One Financial Corporati\\', \\'CarMax Inc\\', \\'Cardinal Health, Inc.\\', \\'Carnival Corporation\\', \\'Carrier Global Corporation\\', \\'Catalent, Inc.\\', \\'Caterpillar, Inc.\\', \\'Cboe Global Markets, Inc.\\', \\'Celanese Corporation\\', \\'Cencora, Inc.\\', \\'Centene Corporation\\', \\'CenterPoint Energy, Inc (Holdin\\', \\'Charles River Laboratories Inte\\', \\'Charles Schwab Corporation (The\\', \\'Charter Communications, Inc.\\', \\'Chevron Corporation\\', \\'Chipotle Mexican Grill, Inc.\\', \\'Chubb Limited\\', \\'Church & Dwight Company, Inc.\\', \\'Cincinnati Financial Corporatio\\', \\'Cintas Corporation\\', \\'Cisco Systems, Inc.\\', \\'Citigroup, Inc.\\', \\'Citizens Financial Group, Inc.\\', \\'Clorox Company (The)\\', \\'CoStar Group, Inc.\\', \\'Coca-Cola Company (The)\\', \\'Cognizant Technology Solutions\\', \\'Colgate-Palmolive Company\\', \\'Comcast Corporation\\', \\'Comerica Incorporated\\', \\'ConAgra Brands, Inc.\\', \\'ConocoPhillips\\', \\'Consolidated Edison, Inc.\\', \\'Constellation Brands, Inc.\\', \\'Constellation Energy Corporatio\\', \\'Copart, Inc.\\', \\'Corning Incorporated\\', \\'Corpay, Inc.\\', \\'Corteva, Inc.\\', \\'Costco Wholesale Corporation\\', \\'Coterra Energy Inc.\\', \\'Crown Castle Inc.\\', \\'Cummins Inc.\\', \\'D.R. Horton, Inc.\\', \\'DBA Sempra\\', \\'DTE Energy Company\\', \\'DaVita Inc.\\', \\'Danaher Corporation\\', \\'Darden Restaurants, Inc.\\', \\'Dayforce, Inc.\\', \\'Deckers Outdoor Corporation\\', \\'Deere & Company\\', \\'Delta Air Lines, Inc.\\', \\'Devon Energy Corporation\\', \\'DexCom, Inc.\\', \\'Diamondback Energy, Inc.\\', \\'Digital Realty Trust, Inc.\\', \\'Discover Financial Services\\', \\'Dollar General Corporation\\', \\'Dollar Tree, Inc.\\', \\'Dominion Energy, Inc.\\', \"Domino\\'s Pizza Inc\", \\'Dover Corporation\\', \\'Dow Inc.\\', \\'DuPont de Nemours, Inc.\\', \\'Duke Energy Corporation (Holdin\\', \\'EOG Resources, Inc.\\', \\'EPAM Systems, Inc.\\', \\'EQT Corporation\\', \\'Eastman Chemical Company\\', \\'Eaton Corporation, PLC\\', \\'Ecolab Inc.\\', \\'Edison International\\', \\'Edwards Lifesciences Corporatio\\', \\'Electronic Arts Inc.\\', \\'Elevance Health, Inc.\\', \\'Eli Lilly and Company\\', \\'Emerson Electric Company\\', \\'Enphase Energy, Inc.\\', \\'Entergy Corporation\\', \\'Equifax, Inc.\\', \\'Equinix, Inc.\\', \\'Equity Residential\\', \\'Essex Property Trust, Inc.\\', \\'Estee Lauder Companies, Inc. (T\\', \\'Etsy, Inc.\\', \\'Everest Group, Ltd.\\', \\'Evergy, Inc.\\', \\'Eversource Energy (D/B/A)\\', \\'Exelon Corporation\\', \\'Expedia Group, Inc.\\', \\'Expeditors International of Was\\', \\'Extra Space Storage Inc\\', \\'Exxon Mobil Corporation\\', \\'F5, Inc.\\', \\'FMC Corporation\\', \\'FactSet Research Systems Inc.\\', \\'Fair Isaac Corproation\\', \\'Fastenal Company\\', \\'FedEx Corporation\\', \\'Federal Realty Investment Trust\\', \\'Fidelity National Information S\\', \\'Fifth Third Bancorp\\', \\'First Solar, Inc.\\', \\'FirstEnergy Corp.\\', \\'Fiserv, Inc.\\', \\'Ford Motor Company\\', \\'Fortinet, Inc.\\', \\'Fortive Corporation\\', \\'Fox Corporation\\', \\'Franklin Resources, Inc.\\', \\'Freeport-McMoRan, Inc.\\', \\'GE Aerospace\\', \\'GE HealthCare Technologies Inc.\\', \\'GE Vernova Inc.\\', \\'Garmin Ltd.\\', \\'Gartner, Inc.\\', \\'Gen Digital Inc.\\', \\'Generac Holdlings Inc.\\', \\'General Dynamics Corporation\\', \\'General Mills, Inc.\\', \\'General Motors Company\\', \\'Genuine Parts Company\\', \\'Gilead Sciences, Inc.\\', \\'Global Payments Inc.\\', \\'Globe Life Inc.\\', \\'Goldman Sachs Group, Inc. (The)\\', \\'HCA Healthcare, Inc.\\', \\'HP Inc.\\', \\'Halliburton Company\\', \\'Hartford Financial Services Gro\\', \\'Hasbro, Inc.\\', \\'Healthpeak Properties, Inc.\\', \\'Henry Schein, Inc.\\', \\'Hess Corporation\\', \\'Hewlett Packard Enterprise Comp\\', \\'Hilton Worldwide Holdings Inc.\\', \\'Hologic, Inc.\\', \\'Home Depot, Inc. (The)\\', \\'Honeywell International Inc.\\', \\'Hormel Foods Corporation\\', \\'Host Hotels & Resorts, Inc.\\', \\'Howmet Aerospace Inc.\\', \\'Hubbell Inc\\', \\'Humana Inc.\\', \\'Huntington Bancshares Incorpora\\', \\'Huntington Ingalls Industries, \\', \\'IDEX Corporation\\', \\'IDEXX Laboratories, Inc.\\', \\'IQVIA Holdings, Inc.\\', \\'Illinois Tool Works Inc.\\', \\'Illumina, Inc.\\', \\'Incyte Corporation\\', \\'Ingersoll Rand Inc.\\', \\'Insulet Corporation\\', \\'Intel Corporation\\', \\'Intercontinental Exchange Inc.\\', \\'International Business Machines\\', \\'International Flavors & Fragran\\', \\'International Paper Company\\', \\'Interpublic Group of Companies,\\', \\'Intuit Inc.\\', \\'Intuitive Surgical, Inc.\\', \\'Invesco Ltd\\', \\'Invitation Homes Inc.\\', \\'Iron Mountain Incorporated (Del\\', \\'J.B. Hunt Transport Services, I\\', \\'JP Morgan Chase & Co.\\', \\'Jabil Inc.\\', \\'Jack Henry & Associates, Inc.\\', \\'Jacobs Solutions Inc.\\', \\'Johnson & Johnson\\', \\'Johnson Controls International\\', \\'Juniper Networks, Inc.\\', \\'KLA Corporation\\', \\'Kellanova\\', \\'Kenvue Inc.\\', \\'Keurig Dr Pepper Inc.\\', \\'KeyCorp\\', \\'Keysight Technologies Inc.\\', \\'Kimberly-Clark Corporation\\', \\'Kimco Realty Corporation (HC)\\', \\'Kinder Morgan, Inc.\\', \\'Kroger Company (The)\\', \\'L3Harris Technologies, Inc.\\', \\'LKQ Corporation\\', \\'Labcorp Holdings Inc.\\', \\'Lam Research Corporation\\', \\'Lamb Weston Holdings, Inc.\\', \\'Las Vegas Sands Corp.\\', \\'Leidos Holdings, Inc.\\', \\'Lennar Corporation\\', \\'Linde plc\\', \\'Live Nation Entertainment, Inc.\\', \\'Lockheed Martin Corporation\\', \\'Loews Corporation\\', \"Lowe\\'s Companies, Inc.\", \\'LyondellBasell Industries NV\\', \\'M&T Bank Corporation\\', \\'MGM Resorts International\\', \\'MSCI Inc.\\', \\'Marathon Oil Corporation\\', \\'Marathon Petroleum Corporation\\', \\'MarketAxess Holdings, Inc.\\', \\'Marriott International\\', \\'Marsh & McLennan Companies, Inc\\', \\'Martin Marietta Materials, Inc.\\', \\'Masco Corporation\\', \\'Mastercard Incorporated\\', \\'Match Group, Inc.\\', \\'McCormick & Company, Incorporat\\', \"McDonald\\'s Corporation\", \\'McKesson Corporation\\', \\'Medtronic plc.\\', \\'Merck & Company, Inc.\\', \\'MetLife, Inc.\\', \\'Meta Platforms, Inc.\\', \\'Mettler-Toledo International, I\\', \\'Microchip Technology Incorporat\\', \\'Micron Technology, Inc.\\', \\'Microsoft Corporation\\', \\'Mid-America Apartment Communiti\\', \\'Moderna, Inc.\\', \\'Mohawk Industries, Inc.\\', \\'Molina Healthcare Inc\\', \\'Molson Coors Beverage Company\\', \\'Mondelez International, Inc.\\', \\'Monolithic Power Systems, Inc.\\', \\'Monster Beverage Corporation\\', \"Moody\\'s Corporation\", \\'Morgan Stanley\\', \\'Mosaic Company (The)\\', \\'Motorola Solutions, Inc.\\', \\'NRG Energy, Inc.\\', \\'NVIDIA Corporation\\', \\'NVR, Inc.\\', \\'NXP Semiconductors N.V.\\', \\'Nasdaq, Inc.\\', \\'NetApp, Inc.\\', \\'Netflix, Inc.\\', \\'Newmont Corporation\\', \\'News Corporation\\', \\'NextEra Energy, Inc.\\', \\'NiSource Inc\\', \\'Nike, Inc.\\', \\'Nordson Corporation\\', \\'Norfolk Southern Corporation\\', \\'Northern Trust Corporation\\', \\'Northrop Grumman Corporation\\', \\'Norwegian Cruise Line Holdings\\', \\'Nucor Corporation\\', \"O\\'Reilly Automotive, Inc.\", \\'ON Semiconductor Corporation\\', \\'ONEOK, Inc.\\', \\'Occidental Petroleum Corporatio\\', \\'Old Dominion Freight Line, Inc.\\', \\'Omnicom Group Inc.\\', \\'Oracle Corporation\\', \\'Otis Worldwide Corporation\\', \\'PACCAR Inc.\\', \\'PNC Financial Services Group, I\\', \\'PPG Industries, Inc.\\', \\'PPL Corporation\\', \\'PTC Inc.\\', \\'Pacific Gas & Electric Co.\\', \\'Packaging Corporation of Americ\\', \\'Palo Alto Networks, Inc.\\', \\'Paramount Global\\', \\'Parker-Hannifin Corporation\\', \\'PayPal Holdings, Inc.\\', \\'Paychex, Inc.\\', \\'Paycom Software, Inc.\\', \\'Pentair plc.\\', \\'Pepsico, Inc.\\', \\'Pfizer, Inc.\\', \\'Philip Morris International Inc\\', \\'Phillips 66\\', \\'Pinnacle West Capital Corporati\\', \\'Pool Corporation\\', \\'Principal Financial Group Inc\\', \\'Procter & Gamble Company (The)\\', \\'Progressive Corporation (The)\\', \\'Prologis, Inc.\\', \\'Prudential Financial, Inc.\\', \\'Public Service Enterprise Group\\', \\'Public Storage\\', \\'PulteGroup, Inc.\\', \\'QUALCOMM Incorporated\\', \\'Qorvo, Inc.\\', \\'Quanta Services, Inc.\\', \\'Quest Diagnostics Incorporated\\', \\'RTX Corporation\\', \\'Ralph Lauren Corporation\\', \\'Raymond James Financial, Inc.\\', \\'Realty Income Corporation\\', \\'Regency Centers Corporation\\', \\'Regeneron Pharmaceuticals, Inc.\\', \\'Regions Financial Corporation\\', \\'Republic Services, Inc.\\', \\'ResMed Inc.\\', \\'Revvity, Inc.\\', \\'Robert Half Inc.\\', \\'Rockwell Automation, Inc.\\', \\'Rollins, Inc.\\', \\'Roper Technologies, Inc.\\', \\'Ross Stores, Inc.\\', \\'Royal Caribbean Cruises Ltd.\\', \\'S&P Global Inc.\\', \\'SBA Communications Corporation\\', \\'STERIS plc (Ireland)\\', \\'Salesforce, Inc.\\', \\'Schlumberger N.V.\\', \\'Seagate Technology Holdings PLC\\', \\'ServiceNow, Inc.\\', \\'Sherwin-Williams Company (The)\\', \\'Simon Property Group, Inc.\\', \\'Skyworks Solutions, Inc.\\', \\'Snap-On Incorporated\\', \\'Solventum Corporation\\', \\'Southern Company (The)\\', \\'Southwest Airlines Company\\', \\'Stanley Black & Decker, Inc.\\', \\'Starbucks Corporation\\', \\'State Street Corporation\\', \\'Steel Dynamics, Inc.\\', \\'Stryker Corporation\\', \\'Super Micro Computer, Inc.\\', \\'Synchrony Financial\\', \\'Synopsys, Inc.\\', \\'Sysco Corporation\\', \\'T-Mobile US, Inc.\\', \\'T. Rowe Price Group, Inc.\\', \\'TE Connectivity Ltd. New Switze\\', \\'TJX Companies, Inc. (The)\\', \\'Take-Two Interactive Software, \\', \\'Tapestry, Inc.\\', \\'Targa Resources, Inc.\\', \\'Target Corporation\\', \\'Teledyne Technologies Incorpora\\', \\'Teleflex Incorporated\\', \\'Teradyne, Inc.\\', \\'Tesla, Inc.\\', \\'Texas Instruments Incorporated\\', \\'Textron Inc.\\', \\'The AES Corporation\\', \\'The Bank of New York Mellon Cor\\', \\'The Cigna Group\\', \\'The Cooper Companies, Inc.\\', \\'The Hershey Company\\', \\'The J.M. Smucker Company\\', \\'The Kraft Heinz Company\\', \\'The Travelers Companies, Inc.\\', \\'Thermo Fisher Scientific Inc\\', \\'Tractor Supply Company\\', \\'Trane Technologies plc\\', \\'Transdigm Group Incorporated\\', \\'Trimble Inc.\\', \\'Truist Financial Corporation\\', \\'Tyler Technologies, Inc.\\', \\'Tyson Foods, Inc.\\', \\'U.S. Bancorp\\', \\'UDR, Inc.\\', \\'Uber Technologies, Inc.\\', \\'Ulta Beauty, Inc.\\', \\'Union Pacific Corporation\\', \\'United Airlines Holdings, Inc.\\', \\'United Parcel Service, Inc.\\', \\'United Rentals, Inc.\\', \\'UnitedHealth Group Incorporated\\', \\'Universal Health Services, Inc.\\', \\'VICI Properties Inc.\\', \\'Valero Energy Corporation\\', \\'Ventas, Inc.\\', \\'Veralto Corp\\', \\'VeriSign, Inc.\\', \\'Verisk Analytics, Inc.\\', \\'Verizon Communications Inc.\\', \\'Vertex Pharmaceuticals Incorpor\\', \\'Viatris Inc.\\', \\'Visa Inc.\\', \\'Vistra Corp.\\', \\'Vulcan Materials Company (Holdi\\', \\'W.R. Berkley Corporation\\', \\'W.W. Grainger, Inc.\\', \\'WEC Energy Group, Inc.\\', \\'Walgreens Boots Alliance, Inc.\\', \\'Walmart Inc.\\', \\'Walt Disney Company (The)\\', \\'Warner Bros. Discovery, Inc. - \\', \\'Waste Management, Inc.\\', \\'Waters Corporation\\', \\'Wells Fargo & Company\\', \\'Welltower Inc.\\', \\'West Pharmaceutical Services, I\\', \\'Western Digital Corporation\\', \\'Westinghouse Air Brake Technolo\\', \\'Westrock Company\\', \\'Weyerhaeuser Company\\', \\'Williams Companies, Inc. (The)\\', \\'Willis Towers Watson Public Lim\\', \\'Wynn Resorts, Limited\\', \\'Xcel Energy Inc.\\', \\'Xylem Inc.\\', \\'Yum! Brands, Inc.\\', \\'Zebra Technologies Corporation\\', \\'Zimmer Biomet Holdings, Inc.\\', \\'Zoetis Inc.\\', \\'eBay Inc.\\', \\'lululemon athletica inc.\\']}',\n",
       " 'sources': {'tool_type': 'cortex_analyst',\n",
       "  'tool_name': 'sp500_semantic_model_cortexanalyst',\n",
       "  'metadata': [{'Table': 'cube_testing.public.sp500'}]}}"
      ]
     },
     "execution_count": 7,
     "metadata": {},
     "output_type": "execute_result"
    }
   ],
   "source": [
    "await sp500(\"which companies are in the S&p500?\")"
   ]
  },
  {
   "cell_type": "code",
   "execution_count": 8,
   "metadata": {},
   "outputs": [
    {
     "data": {
      "text/plain": [
       "{'output': \"{'SHORTNAME': ['Microsoft Corporation', 'Apple Inc.', 'NVIDIA Corporation', 'Alphabet Inc.', 'Amazon.com, Inc.'], 'SYMBOL': ['MSFT', 'AAPL', 'NVDA', 'GOOGL', 'AMZN'], 'SECTOR': ['Technology', 'Technology', 'Technology', 'Communication Services', 'Consumer Cyclical'], 'INDUSTRY': ['Software - Infrastructure', 'Consumer Electronics', 'Semiconductors', 'Internet Content & Information', 'Internet Retail']}\",\n",
       " 'sources': {'tool_type': 'cortex_analyst',\n",
       "  'tool_name': 'sp500_semantic_model_cortexanalyst',\n",
       "  'metadata': [{'Table': 'cube_testing.public.sp500'}]}}"
      ]
     },
     "execution_count": 8,
     "metadata": {},
     "output_type": "execute_result"
    }
   ],
   "source": [
    "await sp500_two(\"which companies are in the S&p500\")"
   ]
  },
  {
   "cell_type": "markdown",
   "metadata": {},
   "source": [
    "# Agent Testing"
   ]
  },
  {
   "cell_type": "markdown",
   "metadata": {},
   "source": [
    "The 3 types of questions below are designed to showcase the breadth of tool use patterns possible with the Agent Gateway. \n",
    "\n",
    "- The Structured Data Questions use the Cortex Analyst agent. \n",
    "- The Unstructured Data Questions use either the Cortex Search agent or the Python (News API) agent.\n",
    "- The last section includes a question that requires the use of both types of tools."
   ]
  },
  {
   "cell_type": "markdown",
   "metadata": {},
   "source": [
    "## Structured Data Questions"
   ]
  },
  {
   "cell_type": "code",
   "execution_count": null,
   "metadata": {},
   "outputs": [],
   "source": []
  },
  {
   "cell_type": "code",
   "execution_count": 6,
   "metadata": {},
   "outputs": [
    {
     "name": "stdout",
     "output_type": "stream",
     "text": [
      "2025-03-20 10:56:26,896 - AgentGatewayLogger - INFO - running sp500_semantic_model_cortexanalyst task\n"
     ]
    },
    {
     "ename": "KeyboardInterrupt",
     "evalue": "",
     "output_type": "error",
     "traceback": [
      "\u001b[31m---------------------------------------------------------------------------\u001b[39m",
      "\u001b[31mKeyboardInterrupt\u001b[39m                         Traceback (most recent call last)",
      "\u001b[36mCell\u001b[39m\u001b[36m \u001b[39m\u001b[32mIn[6]\u001b[39m\u001b[32m, line 1\u001b[39m\n\u001b[32m----> \u001b[39m\u001b[32m1\u001b[39m \u001b[43magent\u001b[49m\u001b[43m(\u001b[49m\u001b[33;43m\"\u001b[39;49m\u001b[33;43mwhich companies are in the Sp500?\u001b[39;49m\u001b[33;43m\"\u001b[39;49m\u001b[43m)\u001b[49m\n",
      "\u001b[36mFile \u001b[39m\u001b[32m~/Documents/GitHub/orchestration-framework/agent_gateway/gateway/gateway.py:384\u001b[39m, in \u001b[36mAgent.__call__\u001b[39m\u001b[34m(self, input)\u001b[39m\n\u001b[32m    382\u001b[39m thread = threading.Thread(target=\u001b[38;5;28mself\u001b[39m.run_async, args=(\u001b[38;5;28minput\u001b[39m, result, error))\n\u001b[32m    383\u001b[39m thread.start()\n\u001b[32m--> \u001b[39m\u001b[32m384\u001b[39m \u001b[43mthread\u001b[49m\u001b[43m.\u001b[49m\u001b[43mjoin\u001b[49m\u001b[43m(\u001b[49m\u001b[43m)\u001b[49m\n\u001b[32m    386\u001b[39m \u001b[38;5;28;01mif\u001b[39;00m error:\n\u001b[32m    387\u001b[39m     gateway_logger.log(\u001b[33m\"\u001b[39m\u001b[33mDEBUG\u001b[39m\u001b[33m\"\u001b[39m, \u001b[33mf\u001b[39m\u001b[33m\"\u001b[39m\u001b[33mERROR NoneType: \u001b[39m\u001b[38;5;132;01m{\u001b[39;00merror\u001b[38;5;132;01m}\u001b[39;00m\u001b[33m\"\u001b[39m)\n",
      "\u001b[36mFile \u001b[39m\u001b[32m/Library/Frameworks/Python.framework/Versions/3.11/lib/python3.11/threading.py:1119\u001b[39m, in \u001b[36mThread.join\u001b[39m\u001b[34m(self, timeout)\u001b[39m\n\u001b[32m   1116\u001b[39m     \u001b[38;5;28;01mraise\u001b[39;00m \u001b[38;5;167;01mRuntimeError\u001b[39;00m(\u001b[33m\"\u001b[39m\u001b[33mcannot join current thread\u001b[39m\u001b[33m\"\u001b[39m)\n\u001b[32m   1118\u001b[39m \u001b[38;5;28;01mif\u001b[39;00m timeout \u001b[38;5;129;01mis\u001b[39;00m \u001b[38;5;28;01mNone\u001b[39;00m:\n\u001b[32m-> \u001b[39m\u001b[32m1119\u001b[39m     \u001b[38;5;28;43mself\u001b[39;49m\u001b[43m.\u001b[49m\u001b[43m_wait_for_tstate_lock\u001b[49m\u001b[43m(\u001b[49m\u001b[43m)\u001b[49m\n\u001b[32m   1120\u001b[39m \u001b[38;5;28;01melse\u001b[39;00m:\n\u001b[32m   1121\u001b[39m     \u001b[38;5;66;03m# the behavior of a negative timeout isn't documented, but\u001b[39;00m\n\u001b[32m   1122\u001b[39m     \u001b[38;5;66;03m# historically .join(timeout=x) for x<0 has acted as if timeout=0\u001b[39;00m\n\u001b[32m   1123\u001b[39m     \u001b[38;5;28mself\u001b[39m._wait_for_tstate_lock(timeout=\u001b[38;5;28mmax\u001b[39m(timeout, \u001b[32m0\u001b[39m))\n",
      "\u001b[36mFile \u001b[39m\u001b[32m/Library/Frameworks/Python.framework/Versions/3.11/lib/python3.11/threading.py:1139\u001b[39m, in \u001b[36mThread._wait_for_tstate_lock\u001b[39m\u001b[34m(self, block, timeout)\u001b[39m\n\u001b[32m   1136\u001b[39m     \u001b[38;5;28;01mreturn\u001b[39;00m\n\u001b[32m   1138\u001b[39m \u001b[38;5;28;01mtry\u001b[39;00m:\n\u001b[32m-> \u001b[39m\u001b[32m1139\u001b[39m     \u001b[38;5;28;01mif\u001b[39;00m \u001b[43mlock\u001b[49m\u001b[43m.\u001b[49m\u001b[43macquire\u001b[49m\u001b[43m(\u001b[49m\u001b[43mblock\u001b[49m\u001b[43m,\u001b[49m\u001b[43m \u001b[49m\u001b[43mtimeout\u001b[49m\u001b[43m)\u001b[49m:\n\u001b[32m   1140\u001b[39m         lock.release()\n\u001b[32m   1141\u001b[39m         \u001b[38;5;28mself\u001b[39m._stop()\n",
      "\u001b[31mKeyboardInterrupt\u001b[39m: "
     ]
    }
   ],
   "source": [
    "agent(\"which companies are in the Sp500?\")"
   ]
  },
  {
   "cell_type": "code",
   "execution_count": 5,
   "metadata": {},
   "outputs": [
    {
     "name": "stdout",
     "output_type": "stream",
     "text": [
      "2025-03-19 14:22:24,065 - AgentGatewayLogger - INFO - running sp500_semantic_model_cortexanalyst task\n"
     ]
    },
    {
     "data": {
      "text/plain": [
       "{'output': 'The market cap of Apple is $3,019,131,060,224, or approximately $3.02 trillion.',\n",
       " 'sources': [{'tool_type': 'cortex_analyst',\n",
       "   'tool_name': 'sp500_semantic_model_cortexanalyst',\n",
       "   'metadata': [{'Table': 'cube_testing.public.sp500'}]}]}"
      ]
     },
     "execution_count": 5,
     "metadata": {},
     "output_type": "execute_result"
    }
   ],
   "source": [
    "agent(\"What is the market cap of Apple?\")"
   ]
  },
  {
   "cell_type": "code",
   "execution_count": 6,
   "metadata": {},
   "outputs": [
    {
     "name": "stdout",
     "output_type": "stream",
     "text": [
      "2025-03-19 14:23:24,449 - AgentGatewayLogger - INFO - running sp500_semantic_model_cortexanalyst task\n",
      "2025-03-19 14:23:24,453 - AgentGatewayLogger - INFO - running sp500_semantic_model_cortexanalyst task\n"
     ]
    },
    {
     "data": {
      "text/plain": [
       "{'output': \"Apple has a bigger EBITDA of $129,629,003,776 compared to Microsoft's $125,981,999,104.\",\n",
       " 'sources': [{'tool_type': 'cortex_analyst',\n",
       "   'tool_name': 'sp500_semantic_model_cortexanalyst',\n",
       "   'metadata': [{'Table': 'cube_testing.public.sp500'}]}]}"
      ]
     },
     "execution_count": 6,
     "metadata": {},
     "output_type": "execute_result"
    }
   ],
   "source": [
    "agent(\"Which company has the bigger EBITDA, Apple or MSFT?\")"
   ]
  },
  {
   "cell_type": "markdown",
   "metadata": {},
   "source": [
    "# Unstructured Data Questions"
   ]
  },
  {
   "cell_type": "code",
   "execution_count": 7,
   "metadata": {},
   "outputs": [
    {
     "name": "stdout",
     "output_type": "stream",
     "text": [
      "2025-03-19 14:02:37,629 - AgentGatewayLogger - INFO - running sec_search_service_cortexsearch task\n"
     ]
    },
    {
     "data": {
      "text/plain": [
       "{'output': 'As of January 31, 2024, Snowflake had 9,437 total customers.',\n",
       " 'sources': [{'tool_type': 'cortex_search',\n",
       "   'tool_name': 'sec_search_service_cortexsearch',\n",
       "   'metadata': [{'RELATIVE_PATH': '2024_10k_snowflake.pdf'},\n",
       "    {'RELATIVE_PATH': '2023_10k_snowflake.pdf'},\n",
       "    {'RELATIVE_PATH': '2022_10k_snowflake.pdf'},\n",
       "    {'RELATIVE_PATH': '2021_10k_snowflake.pdf'}]}]}"
      ]
     },
     "execution_count": 7,
     "metadata": {},
     "output_type": "execute_result"
    }
   ],
   "source": [
    "agent(\"How many customers does Snowflake have?\")"
   ]
  },
  {
   "cell_type": "code",
   "execution_count": 7,
   "metadata": {},
   "outputs": [
    {
     "name": "stdout",
     "output_type": "stream",
     "text": [
      "2025-03-19 14:23:36,187 - AgentGatewayLogger - INFO - running html_crawl task\n"
     ]
    },
    {
     "data": {
      "text/plain": [
       "{'output': 'Snowflake can be hosted on the following cloud platforms: Amazon Web Services (AWS), Google Cloud Platform (GCP), and Microsoft Azure (Azure).',\n",
       " 'sources': [{'tool_type': 'custom_tool',\n",
       "   'tool_name': 'html_crawl',\n",
       "   'metadata': [None]}]}"
      ]
     },
     "execution_count": 7,
     "metadata": {},
     "output_type": "execute_result"
    }
   ],
   "source": [
    "agent(\n",
    "    \"On which platforms can I host Snowflake according to this documentation page https://docs.snowflake.com/en/user-guide/intro-cloud-platforms\"\n",
    ")"
   ]
  },
  {
   "cell_type": "markdown",
   "metadata": {},
   "source": [
    "## Unstructured + Structured Data Questions"
   ]
  },
  {
   "cell_type": "code",
   "execution_count": 8,
   "metadata": {},
   "outputs": [
    {
     "name": "stdout",
     "output_type": "stream",
     "text": [
      "2025-03-19 14:23:57,484 - AgentGatewayLogger - INFO - running sec_search_service_cortexsearch task\n",
      "2025-03-19 14:23:58,467 - AgentGatewayLogger - INFO - running summarize task\n",
      "2025-03-19 14:24:00,027 - AgentGatewayLogger - INFO - running sp500_semantic_model_cortexanalyst task\n",
      "2025-03-19 14:24:37,180 - AgentGatewayLogger - INFO - running sec_search_service_cortexsearch task\n",
      "2025-03-19 14:24:38,132 - AgentGatewayLogger - INFO - running summarize task\n",
      "2025-03-19 14:24:38,486 - AgentGatewayLogger - INFO - running sp500_semantic_model_cortexanalyst task\n"
     ]
    },
    {
     "data": {
      "text/plain": [
       "{'output': 'The market cap of Microsoft is $3,150,184,448,000, the market cap of Alphabet Inc. (Google) is $2,164,350,779,392, and the market cap of Amazon.com, Inc. is $1,917,936,336,896.',\n",
       " 'sources': [{'tool_type': 'cortex_search',\n",
       "   'tool_name': 'sec_search_service_cortexsearch',\n",
       "   'metadata': [{'RELATIVE_PATH': '2023_10k_snowflake.pdf'},\n",
       "    {'RELATIVE_PATH': '2024_10k_snowflake.pdf'},\n",
       "    {'RELATIVE_PATH': '2022_10k_snowflake.pdf'},\n",
       "    {'RELATIVE_PATH': '2021_10k_snowflake.pdf'}]},\n",
       "  {'tool_type': 'cortex_analyst',\n",
       "   'tool_name': 'sp500_semantic_model_cortexanalyst',\n",
       "   'metadata': [{'Table': None}]},\n",
       "  {'tool_type': 'cortex_analyst',\n",
       "   'tool_name': 'sp500_semantic_model_cortexanalyst',\n",
       "   'metadata': [{'Table': 'cube_testing.public.sp500'}]}]}"
      ]
     },
     "execution_count": 8,
     "metadata": {},
     "output_type": "execute_result"
    }
   ],
   "source": [
    "agent(\n",
    "    \"What is the market cap of each of the cloud providers mentioned in Snowflake's annual report?\"\n",
    ")"
   ]
  }
 ],
 "metadata": {
  "kernelspec": {
   "display_name": ".venv",
   "language": "python",
   "name": "python3"
  },
  "language_info": {
   "codemirror_mode": {
    "name": "ipython",
    "version": 3
   },
   "file_extension": ".py",
   "mimetype": "text/x-python",
   "name": "python",
   "nbconvert_exporter": "python",
   "pygments_lexer": "ipython3",
   "version": "3.11.6"
  }
 },
 "nbformat": 4,
 "nbformat_minor": 2
}
