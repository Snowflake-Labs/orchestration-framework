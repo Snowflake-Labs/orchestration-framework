{
 "cells": [
  {
   "cell_type": "markdown",
   "metadata": {},
   "source": [
    "# Cortex Cube Quickstart Notebook"
   ]
  },
  {
   "cell_type": "markdown",
   "metadata": {},
   "source": [
    "Cortex Cube is a multi-agent framework that offers native support for Snowflake tools. Instead of requiring users or developers to choose between RAG with Cortex Search or Text2SQL with Cortex Analyst, let the Cube route the work to the appropriate tool based on the user's request.\n",
    "\n",
    "CortexCube can be configured to work with 3 types of tools:\n",
    "- Cortex Search Tool: For unstructured data analysis, which requires a standard RAG access pattern.\n",
    "- Cortex Analyst Tool: For supporting structured data analysis, which requires a Text2SQL access pattern.\n",
    "- Python Tool: For supporting custom user operations (using 3rd Party API's), which requires calling arbitrary python.\n",
    "\n",
    "This notebook walks through how to configure and run a system with all 3 types of tools. The demo is designed to illustrate how the agent can answer questions that require a divserse combination of tools (RAG,Text2SQL, Python, or a combination).\n",
    "\n",
    "Note that Cortex Cube does not configure the underlying Cortex Search or Cortex Analyst services for the user. Those services must be configured before initializing Cortex Cube."
   ]
  },
  {
   "cell_type": "markdown",
   "metadata": {},
   "source": [
    "# Cortex Cube Configuration"
   ]
  },
  {
   "cell_type": "markdown",
   "metadata": {},
   "source": [
    "## Connection Setup"
   ]
  },
  {
   "cell_type": "markdown",
   "metadata": {},
   "source": [
    "Authenticate with Snowpark + set token as environment variable for use by the agents."
   ]
  },
  {
   "cell_type": "code",
   "execution_count": 2,
   "metadata": {},
   "outputs": [],
   "source": [
    "from agent_gateway import Agent\n",
    "from agent_gateway.tools import CortexSearchTool, CortexAnalystTool, PythonTool\n",
    "from snowflake.snowpark import Session\n",
    "import os, time\n",
    "\n",
    "connection_parameters = {\n",
    "    \"account\": os.getenv(\"SNOWFLAKE_ACCOUNT\"),\n",
    "    \"user\": os.getenv(\"SNOWFLAKE_USER\"),\n",
    "    \"password\": os.getenv(\"SNOWFLAKE_PASSWORD\"),\n",
    "    \"role\": os.getenv(\"SNOWFLAKE_ROLE\"),\n",
    "    \"warehouse\": os.getenv(\"SNOWFLAKE_WAREHOUSE\"),\n",
    "    \"database\": os.getenv(\"SNOWFLAKE_DATABASE\"),\n",
    "    \"schema\": os.getenv(\"SNOWFLAKE_SCHEMA\"),\n",
    "}\n",
    "\n",
    "snowpark = Session.builder.configs(connection_parameters).create()"
   ]
  },
  {
   "cell_type": "markdown",
   "metadata": {},
   "source": [
    "## Snowflake Tool Configuration"
   ]
  },
  {
   "cell_type": "markdown",
   "metadata": {},
   "source": [
    "The Cortex Search Tool and the Cortex Analyst Tool need to be configured as follows. Note that a connection object is required for each config. In the case below we're using the same connection object for both because the services are both in the same account/database/schema. Users have the option to pass in different connection objects as needed."
   ]
  },
  {
   "cell_type": "code",
   "execution_count": 3,
   "metadata": {},
   "outputs": [],
   "source": [
    "search_config = {\n",
    "    \"service_name\": \"SEC_SEARCH_SERVICE\",\n",
    "    \"service_topic\": \"Snowflake's business,product offerings,and performance.\",\n",
    "    \"data_description\": \"Snowflake annual reports\",\n",
    "    \"retrieval_columns\": [\"CHUNK\"],\n",
    "    \"snowflake_connection\": snowpark,\n",
    "}\n",
    "\n",
    "analyst_config = {\n",
    "    \"semantic_model\": \"sp500_semantic_model.yaml\",\n",
    "    \"stage\": \"ANALYST\",\n",
    "    \"service_topic\": \"S&P500 company and stock metrics\",\n",
    "    \"data_description\": \"a table with stock and financial metrics about S&P500 companies \",\n",
    "    \"snowflake_connection\": snowpark,\n",
    "}"
   ]
  },
  {
   "cell_type": "markdown",
   "metadata": {},
   "source": [
    "## Python Tool Configuration"
   ]
  },
  {
   "cell_type": "markdown",
   "metadata": {},
   "source": [
    "Configuring a Python Tool for Cortex Cube requires 1) Python Callable 2) Tool Description (what does the tool do) 3) Output Description (what does the tool output). \n",
    "\n",
    "In the example below we create a NewsTool object that submits a HTTP request to a 3rd Party News API. The python callable is passed into the Python Tool as `news_api_func`.To use the tool below get your free token by signing up for an account at thenewsapi.com or just create your own python function and pass it into the PythonTool."
   ]
  },
  {
   "cell_type": "code",
   "execution_count": 4,
   "metadata": {},
   "outputs": [],
   "source": [
    "import requests, json\n",
    "\n",
    "\n",
    "class NewsTool:\n",
    "    def __init__(self, token, limit) -> None:\n",
    "        self.api_token = token\n",
    "        self.limit = limit\n",
    "\n",
    "    def news_search(self, news_query: str) -> str:\n",
    "        news_request = f\"\"\"https://api.thenewsapi.com/v1/news/all?api_token={self.api_token}&search={news_query}&language=en&limit={self.limit}\"\"\"\n",
    "        response = requests.get(news_request)\n",
    "        json_response = json.loads(response.content)[\"data\"]\n",
    "\n",
    "        return str(json_response)\n",
    "\n",
    "\n",
    "python_config = {\n",
    "    \"tool_description\": \"searches for relevant news based on user query\",\n",
    "    \"output_description\": \"relevant articles\",\n",
    "    \"python_func\": NewsTool(token=os.getenv(\"NEWS_API_TOKEN\"), limit=3).news_search,\n",
    "}"
   ]
  },
  {
   "cell_type": "markdown",
   "metadata": {},
   "source": [
    "## Cortex Cube Config"
   ]
  },
  {
   "cell_type": "markdown",
   "metadata": {},
   "source": [
    "After the tools have been configured, initialize them and configure CortexCube"
   ]
  },
  {
   "cell_type": "code",
   "execution_count": 5,
   "metadata": {},
   "outputs": [
    {
     "name": "stderr",
     "output_type": "stream",
     "text": [
      "INFO:CortexCubeLogger:Cortex Search Tool successfully initialized\n",
      "INFO:CortexCubeLogger:Cortex Analyst Tool successfully initialized\n",
      "INFO:CortexCubeLogger:Python Tool successfully initialized\n",
      "INFO:CortexCubeLogger:Cortex Cube successfully initialized\n"
     ]
    }
   ],
   "source": [
    "annual_reports = CortexSearchTool(**search_config)\n",
    "sp500 = CortexAnalystTool(**analyst_config)\n",
    "news_search = PythonTool(**python_config)\n",
    "\n",
    "snowflake_tools = [annual_reports, sp500, news_search]\n",
    "agent = Agent(snowflake_connection=snowpark, tools=snowflake_tools)"
   ]
  },
  {
   "cell_type": "markdown",
   "metadata": {},
   "source": [
    "## Unstructured Data Questions"
   ]
  },
  {
   "cell_type": "markdown",
   "metadata": {},
   "source": [
    "# Cortex Cube Testing"
   ]
  },
  {
   "cell_type": "markdown",
   "metadata": {},
   "source": [
    "The 3 types of questions below are designed to showcase the breadth of tool use patterns possible with Cortex Cube. \n",
    "\n",
    "- The Structured Data Questions use the Cortex Analyst agent. \n",
    "- The Unstructured Data Questions use either the Cortex Search agent or the Python (News API) agent.\n",
    "- The last section includes a question that requires the use of both types of tools."
   ]
  },
  {
   "cell_type": "markdown",
   "metadata": {},
   "source": [
    "## Structured Data Questions"
   ]
  },
  {
   "cell_type": "code",
   "execution_count": 6,
   "metadata": {},
   "outputs": [
    {
     "name": "stderr",
     "output_type": "stream",
     "text": [
      "INFO:CortexCubeLogger:running sp500_semantic_model_cortexanalyst task\n"
     ]
    },
    {
     "data": {
      "text/plain": [
       "'The market cap of Apple is $3,019,131,060,224 or approximately $3.02 trillion.'"
      ]
     },
     "execution_count": 6,
     "metadata": {},
     "output_type": "execute_result"
    }
   ],
   "source": [
    "agent(\"What is the market cap of Apple?\")"
   ]
  },
  {
   "cell_type": "code",
   "execution_count": 8,
   "metadata": {},
   "outputs": [
    {
     "name": "stderr",
     "output_type": "stream",
     "text": [
      "INFO:CortexCubeLogger:running sec_search_service_cortexsearch task\n",
      "INFO:CortexCubeLogger:running sp500_semantic_model_cortexanalyst task\n"
     ]
    },
    {
     "name": "stdout",
     "output_type": "stream",
     "text": [
      "....replanning...\n"
     ]
    },
    {
     "name": "stderr",
     "output_type": "stream",
     "text": [
      "INFO:CortexCubeLogger:running sp500_semantic_model_cortexanalyst task\n"
     ]
    },
    {
     "data": {
      "text/plain": [
       "\"The competitors mentioned in Snowflake's annual report are Amazon Web Services (AWS), Microsoft Azure (Azure), and Google Cloud Platform (GCP). The market cap of their parent companies are as follows:\\n- Microsoft Corporation: $3,150,184,448,000\\n- Alphabet Inc. (Google): $2,164,350,779,392\\n- Amazon.com, Inc.: $1,917,936,336,896\""
      ]
     },
     "execution_count": 8,
     "metadata": {},
     "output_type": "execute_result"
    }
   ],
   "source": [
    "agent(\n",
    "    \"Which companies are mentioned as competitors in Snowflake's annual report? What is the market cap of each of those competitors\"\n",
    ")"
   ]
  },
  {
   "cell_type": "code",
   "execution_count": 6,
   "metadata": {},
   "outputs": [
    {
     "name": "stderr",
     "output_type": "stream",
     "text": [
      "INFO:CortexCubeLogger:running sp500_semantic_model_cortexanalyst task\n"
     ]
    },
    {
     "data": {
      "text/plain": [
       "'The market cap of Apple is $3,019,131,060,224 or approximately $3.02 trillion.'"
      ]
     },
     "execution_count": 6,
     "metadata": {},
     "output_type": "execute_result"
    }
   ],
   "source": [
    "agent(\"What is the market cap of Apple?\")"
   ]
  },
  {
   "cell_type": "code",
   "execution_count": 15,
   "metadata": {},
   "outputs": [
    {
     "name": "stderr",
     "output_type": "stream",
     "text": [
      "INFO:CortexCubeLogger:running SP500_cortexanalyst task\n",
      "INFO:CortexCubeLogger:running SP500_cortexanalyst task\n"
     ]
    },
    {
     "data": {
      "text/plain": [
       "'Apple has a bigger EBITDA than Microsoft.'"
      ]
     },
     "execution_count": 15,
     "metadata": {},
     "output_type": "execute_result"
    }
   ],
   "source": [
    "agent(\"Which company has the bigger EBITDA, Apple or MSFT?\")"
   ]
  },
  {
   "cell_type": "markdown",
   "metadata": {},
   "source": [
    "# Unstructured Data Questions"
   ]
  },
  {
   "cell_type": "code",
   "execution_count": 6,
   "metadata": {},
   "outputs": [
    {
     "name": "stderr",
     "output_type": "stream",
     "text": [
      "INFO:CortexCubeLogger:running sp500_semantic_model_cortexanalyst task\n",
      "WARNING:root:\t*** In DSPy 2.5, all LM clients except `dspy.LM` are deprecated. ***\n",
      " \t\tYou are using the client Snowflake, which will be removed in DSPy 2.6.\n",
      " \t\tChanging the client is straightforward and will let you use new features (Adapters) that improve the consistency of LM outputs, especially when using chat LMs. \n",
      "\n",
      " \t\tLearn more about the changes and how to migrate at\n",
      " \t\thttps://github.com/stanfordnlp/dspy/blob/main/examples/migration.ipynb\n"
     ]
    },
    {
     "ename": "KeyboardInterrupt",
     "evalue": "",
     "output_type": "error",
     "traceback": [
      "\u001b[0;31m---------------------------------------------------------------------------\u001b[0m",
      "\u001b[0;31mKeyboardInterrupt\u001b[0m                         Traceback (most recent call last)",
      "Cell \u001b[0;32mIn[6], line 1\u001b[0m\n\u001b[0;32m----> 1\u001b[0m \u001b[43magent\u001b[49m\u001b[43m(\u001b[49m\u001b[38;5;124;43m\"\u001b[39;49m\u001b[38;5;124;43mHow many customers does Snowflake have?\u001b[39;49m\u001b[38;5;124;43m\"\u001b[39;49m\u001b[43m)\u001b[49m\n",
      "File \u001b[0;32m~/Downloads/Cube/cortex-cube/CortexCube/cube/cortex_cube.py:302\u001b[0m, in \u001b[0;36mCortexCube.__call__\u001b[0;34m(self, input)\u001b[0m\n\u001b[1;32m    300\u001b[0m thread \u001b[38;5;241m=\u001b[39m threading\u001b[38;5;241m.\u001b[39mThread(target\u001b[38;5;241m=\u001b[39m\u001b[38;5;28mself\u001b[39m\u001b[38;5;241m.\u001b[39mrun_async, args\u001b[38;5;241m=\u001b[39m(\u001b[38;5;28minput\u001b[39m, result))\n\u001b[1;32m    301\u001b[0m thread\u001b[38;5;241m.\u001b[39mstart()\n\u001b[0;32m--> 302\u001b[0m \u001b[43mthread\u001b[49m\u001b[38;5;241;43m.\u001b[39;49m\u001b[43mjoin\u001b[49m\u001b[43m(\u001b[49m\u001b[43m)\u001b[49m\n\u001b[1;32m    303\u001b[0m \u001b[38;5;28;01mtry\u001b[39;00m:\n\u001b[1;32m    304\u001b[0m     \u001b[38;5;28;01mreturn\u001b[39;00m result[\u001b[38;5;241m0\u001b[39m][\u001b[38;5;124m\"\u001b[39m\u001b[38;5;124moutput\u001b[39m\u001b[38;5;124m\"\u001b[39m]\n",
      "File \u001b[0;32m/Library/Frameworks/Python.framework/Versions/3.11/lib/python3.11/threading.py:1119\u001b[0m, in \u001b[0;36mThread.join\u001b[0;34m(self, timeout)\u001b[0m\n\u001b[1;32m   1116\u001b[0m     \u001b[38;5;28;01mraise\u001b[39;00m \u001b[38;5;167;01mRuntimeError\u001b[39;00m(\u001b[38;5;124m\"\u001b[39m\u001b[38;5;124mcannot join current thread\u001b[39m\u001b[38;5;124m\"\u001b[39m)\n\u001b[1;32m   1118\u001b[0m \u001b[38;5;28;01mif\u001b[39;00m timeout \u001b[38;5;129;01mis\u001b[39;00m \u001b[38;5;28;01mNone\u001b[39;00m:\n\u001b[0;32m-> 1119\u001b[0m     \u001b[38;5;28;43mself\u001b[39;49m\u001b[38;5;241;43m.\u001b[39;49m\u001b[43m_wait_for_tstate_lock\u001b[49m\u001b[43m(\u001b[49m\u001b[43m)\u001b[49m\n\u001b[1;32m   1120\u001b[0m \u001b[38;5;28;01melse\u001b[39;00m:\n\u001b[1;32m   1121\u001b[0m     \u001b[38;5;66;03m# the behavior of a negative timeout isn't documented, but\u001b[39;00m\n\u001b[1;32m   1122\u001b[0m     \u001b[38;5;66;03m# historically .join(timeout=x) for x<0 has acted as if timeout=0\u001b[39;00m\n\u001b[1;32m   1123\u001b[0m     \u001b[38;5;28mself\u001b[39m\u001b[38;5;241m.\u001b[39m_wait_for_tstate_lock(timeout\u001b[38;5;241m=\u001b[39m\u001b[38;5;28mmax\u001b[39m(timeout, \u001b[38;5;241m0\u001b[39m))\n",
      "File \u001b[0;32m/Library/Frameworks/Python.framework/Versions/3.11/lib/python3.11/threading.py:1139\u001b[0m, in \u001b[0;36mThread._wait_for_tstate_lock\u001b[0;34m(self, block, timeout)\u001b[0m\n\u001b[1;32m   1136\u001b[0m     \u001b[38;5;28;01mreturn\u001b[39;00m\n\u001b[1;32m   1138\u001b[0m \u001b[38;5;28;01mtry\u001b[39;00m:\n\u001b[0;32m-> 1139\u001b[0m     \u001b[38;5;28;01mif\u001b[39;00m \u001b[43mlock\u001b[49m\u001b[38;5;241;43m.\u001b[39;49m\u001b[43macquire\u001b[49m\u001b[43m(\u001b[49m\u001b[43mblock\u001b[49m\u001b[43m,\u001b[49m\u001b[43m \u001b[49m\u001b[43mtimeout\u001b[49m\u001b[43m)\u001b[49m:\n\u001b[1;32m   1140\u001b[0m         lock\u001b[38;5;241m.\u001b[39mrelease()\n\u001b[1;32m   1141\u001b[0m         \u001b[38;5;28mself\u001b[39m\u001b[38;5;241m.\u001b[39m_stop()\n",
      "\u001b[0;31mKeyboardInterrupt\u001b[0m: "
     ]
    },
    {
     "name": "stderr",
     "output_type": "stream",
     "text": [
      "ERROR:asyncio:Task exception was never retrieved\n",
      "future: <Task finished name='Task-21' coro=<TaskProcessor._run_task() done, defined at /Users/alherrera/Downloads/Cube/cortex-cube/CortexCube/cube/task_processor.py:129> exception=CortexCubeError('Unexpected error during Cortex Cube Tool request: {\\'role\\': \\'analyst\\', \\'content\\': [{\\'type\\': \\'text\\', \\'text\\': \"I apologize, but the question \\'How many customers does Snowflake have?\\' cannot be answered with the given schema. The schema provided does not contain any information about customers or Snowflake.\"}]}')>\n",
      "Traceback (most recent call last):\n",
      "  File \"/Users/alherrera/Downloads/Cube/cortex-cube/CortexCube/tools/snowflake_tools.py\", line 341, in asearch\n",
      "    query_response = self._process_message(\n",
      "                     ^^^^^^^^^^^^^^^^^^^^^^\n",
      "  File \"/Users/alherrera/Downloads/Cube/cortex-cube/CortexCube/tools/snowflake_tools.py\", line 377, in _process_message\n",
      "    if \"sql\" == response[1][\"type\"]:\n",
      "                ~~~~~~~~^^^\n",
      "IndexError: list index out of range\n",
      "\n",
      "During handling of the above exception, another exception occurred:\n",
      "\n",
      "Traceback (most recent call last):\n",
      "  File \"/Users/alherrera/Downloads/Cube/cortex-cube/CortexCube/cube/task_processor.py\", line 63, in __call__\n",
      "    x = await self.tool(*self.args)\n",
      "        ^^^^^^^^^^^^^^^^^^^^^^^^^^^\n",
      "  File \"/Users/alherrera/Downloads/Cube/cortex-cube/CortexCube/tools/snowflake_tools.py\", line 356, in asearch\n",
      "    raise SnowflakeError(message=json_response[\"message\"])\n",
      "CortexCube.tools.snowflake_tools.SnowflakeError: {'role': 'analyst', 'content': [{'type': 'text', 'text': \"I apologize, but the question 'How many customers does Snowflake have?' cannot be answered with the given schema. The schema provided does not contain any information about customers or Snowflake.\"}]}\n",
      "\n",
      "The above exception was the direct cause of the following exception:\n",
      "\n",
      "Traceback (most recent call last):\n",
      "  File \"/Users/alherrera/Downloads/Cube/cortex-cube/CortexCube/cube/task_processor.py\", line 133, in _run_task\n",
      "    observation = await task()\n",
      "                  ^^^^^^^^^^^^\n",
      "  File \"/Users/alherrera/Downloads/Cube/cortex-cube/CortexCube/cube/task_processor.py\", line 67, in __call__\n",
      "    raise CortexCubeError(\n",
      "CortexCube.cube.task_processor.CortexCubeError: Unexpected error during Cortex Cube Tool request: {'role': 'analyst', 'content': [{'type': 'text', 'text': \"I apologize, but the question 'How many customers does Snowflake have?' cannot be answered with the given schema. The schema provided does not contain any information about customers or Snowflake.\"}]}\n",
      "\n",
      "The above exception was the direct cause of the following exception:\n",
      "\n",
      "Traceback (most recent call last):\n",
      "  File \"/Users/alherrera/Downloads/Cube/cortex-cube/CortexCube/cube/task_processor.py\", line 136, in _run_task\n",
      "    raise CortexCubeError(f\"{str(e)}\") from e\n",
      "CortexCube.cube.task_processor.CortexCubeError: Unexpected error during Cortex Cube Tool request: {'role': 'analyst', 'content': [{'type': 'text', 'text': \"I apologize, but the question 'How many customers does Snowflake have?' cannot be answered with the given schema. The schema provided does not contain any information about customers or Snowflake.\"}]}\n",
      "Exception in thread Thread-5 (run_async):\n",
      "Traceback (most recent call last):\n",
      "  File \"/Library/Frameworks/Python.framework/Versions/3.11/lib/python3.11/threading.py\", line 1045, in _bootstrap_inner\n",
      "    self.run()\n",
      "  File \"/Users/alherrera/Downloads/Cube/cortex-cube/.venv/lib/python3.11/site-packages/ipykernel/ipkernel.py\", line 766, in run_closure\n",
      "    _threading_Thread_run(self)\n",
      "  File \"/Library/Frameworks/Python.framework/Versions/3.11/lib/python3.11/threading.py\", line 982, in run\n",
      "    self._target(*self._args, **self._kwargs)\n",
      "  File \"/Users/alherrera/Downloads/Cube/cortex-cube/CortexCube/cube/cortex_cube.py\", line 321, in run_async\n",
      "    result.append(loop.run_until_complete(self.acall(input)))\n",
      "                  ^^^^^^^^^^^^^^^^^^^^^^^^^^^^^^^^^^^^^^^^^^\n",
      "  File \"/Library/Frameworks/Python.framework/Versions/3.11/lib/python3.11/asyncio/base_events.py\", line 651, in run_until_complete\n",
      "    raise RuntimeError('Event loop stopped before Future completed.')\n",
      "RuntimeError: Event loop stopped before Future completed.\n"
     ]
    },
    {
     "name": "stdout",
     "output_type": "stream",
     "text": [
      "Caught unhandled exception: Unexpected error during Cortex Cube Tool request: {'role': 'analyst', 'content': [{'type': 'text', 'text': \"I apologize, but the question 'How many customers does Snowflake have?' cannot be answered with the given schema. The schema provided does not contain any information about customers or Snowflake.\"}]}\n"
     ]
    }
   ],
   "source": [
    "agent(\"How many customers does Snowflake have?\")"
   ]
  },
  {
   "cell_type": "code",
   "execution_count": 17,
   "metadata": {},
   "outputs": [
    {
     "name": "stderr",
     "output_type": "stream",
     "text": [
      "INFO:CortexCubeLogger:running news_search task\n"
     ]
    },
    {
     "data": {
      "text/plain": [
       "\"'Recent news about Azure's AI investments includes:\\\\n- Article: Microsoft: Navigating AI Investments Amid Market Volatility Source: [GuruFocus](https://www.gurufocus.com/news/2499558/microsoft-navigating-ai-investments-amid-market-volatility)\\\\n- Article: Microsoft: Leading the AI Revolution Source: [GuruFocus](https://www.gurufocus.com/news/2454844/microsoft-leading-the-ai-revolution)\\\\n- Article: How do the big AI cloud providers stack up at the end of Q2? Bernstein weighs in Source: [Investing.com](https://www.investing.com/news/stock-market-news/how-do-the-big-ai-cloud-providers-stack-up-at-the-end-of-q2-bernstein-weighs-in-432SI-3581725)\""
      ]
     },
     "execution_count": 17,
     "metadata": {},
     "output_type": "execute_result"
    }
   ],
   "source": [
    "agent(\"Give me recent news about Azure's AI investments\")"
   ]
  },
  {
   "cell_type": "markdown",
   "metadata": {},
   "source": [
    "## Unstructured + Structured Data Questions"
   ]
  },
  {
   "cell_type": "code",
   "execution_count": 18,
   "metadata": {},
   "outputs": [
    {
     "name": "stderr",
     "output_type": "stream",
     "text": [
      "INFO:CortexCubeLogger:running SP500_cortexanalyst task\n",
      "INFO:CortexCubeLogger:running sec_search_service_cortexsearch task\n"
     ]
    },
    {
     "data": {
      "text/plain": [
       "\"The top 5 companies in the S&P by EBITDA are Apple Inc., Microsoft Corporation, Alphabet Inc., Berkshire Hathaway Inc. New, and Amazon.com, Inc. None of these companies are mentioned as competitors in Snowflake's annual report.\""
      ]
     },
     "execution_count": 18,
     "metadata": {},
     "output_type": "execute_result"
    }
   ],
   "source": [
    "agent(\n",
    "    \"What are the top 5 companies in the S&P by EBITDA? Are any of them mentioned as competitors in Snowflake's annual report?\"\n",
    ")"
   ]
  }
 ],
 "metadata": {
  "kernelspec": {
   "display_name": ".venv",
   "language": "python",
   "name": "python3"
  },
  "language_info": {
   "codemirror_mode": {
    "name": "ipython",
    "version": 3
   },
   "file_extension": ".py",
   "mimetype": "text/x-python",
   "name": "python",
   "nbconvert_exporter": "python",
   "pygments_lexer": "ipython3",
   "version": "3.11.6"
  }
 },
 "nbformat": 4,
 "nbformat_minor": 2
}
